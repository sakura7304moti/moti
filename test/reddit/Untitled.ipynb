{
 "cells": [
  {
   "cell_type": "code",
   "execution_count": 1,
   "id": "3c8b58d9-97e2-471e-9920-a481da8967b9",
   "metadata": {},
   "outputs": [],
   "source": [
    "import snscrape.modules.reddit as reddit"
   ]
  },
  {
   "cell_type": "code",
   "execution_count": 2,
   "id": "9ed18e9a-65f9-497d-ac9c-c3b5f5bf3c9b",
   "metadata": {},
   "outputs": [],
   "source": [
    "scraper = reddit.RedditSubredditScraper('Hololewd')"
   ]
  },
  {
   "cell_type": "code",
   "execution_count": null,
   "id": "f2685f5a-e784-4c3d-b0e5-7fa4487fea49",
   "metadata": {},
   "outputs": [],
   "source": [
    "for i in scraper.get_items():\n",
    "    break"
   ]
  },
  {
   "cell_type": "code",
   "execution_count": null,
   "id": "24f762a4-f324-4949-9618-a737da27c0ca",
   "metadata": {},
   "outputs": [],
   "source": []
  }
 ],
 "metadata": {
  "kernelspec": {
   "display_name": "Python 3 (ipykernel)",
   "language": "python",
   "name": "python3"
  },
  "language_info": {
   "codemirror_mode": {
    "name": "ipython",
    "version": 3
   },
   "file_extension": ".py",
   "mimetype": "text/x-python",
   "name": "python",
   "nbconvert_exporter": "python",
   "pygments_lexer": "ipython3",
   "version": "3.9.13"
  }
 },
 "nbformat": 4,
 "nbformat_minor": 5
}
