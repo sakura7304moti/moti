{
 "cells": [
  {
   "cell_type": "code",
   "execution_count": 1,
   "id": "6e97c9ef-9dbf-4952-a579-6bd91b261095",
   "metadata": {},
   "outputs": [],
   "source": [
    "import pandas as pd\n",
    "from tqdm.notebook import tqdm\n",
    "import snscrape.modules.reddit as reddit\n",
    "import time\n",
    "import os\n",
    "import urllib\n",
    "import datetime\n",
    "import itertools\n",
    "import requests\n",
    "import snscrape\n",
    "import requests\n",
    "from bs4 import BeautifulSoup as bs"
   ]
  },
  {
   "cell_type": "code",
   "execution_count": 2,
   "id": "60c91a75-8b25-46ae-ad25-57b3631a3c5e",
   "metadata": {},
   "outputs": [],
   "source": [
    "scraper = reddit.RedditSubredditScraper(\"Hololewd\")"
   ]
  },
  {
   "cell_type": "code",
   "execution_count": 3,
   "id": "6521f347-f1b6-455e-81d2-85fbcedbb71c",
   "metadata": {},
   "outputs": [],
   "source": [
    "tweets = []\n",
    "for index,tweet in enumerate(scraper.get_items()):\n",
    "    if type(tweet)==snscrape.modules.reddit.Submission:\n",
    "        if tweet.link is not None:\n",
    "            if '.jpg' in tweet.link:\n",
    "                data = [\n",
    "                    tweet.url,\n",
    "                    tweet.date,\n",
    "                    tweet.link\n",
    "                ]\n",
    "                tweets.append(data)\n",
    "    \n",
    "    if len(tweets) > 100:\n",
    "        break"
   ]
  },
  {
   "cell_type": "code",
   "execution_count": 4,
   "id": "53b514bd-4e85-48d4-825e-257ddbdb7cae",
   "metadata": {},
   "outputs": [],
   "source": [
    "tweet_df = pd.DataFrame(\n",
    "    tweets,columns = [\"url\",\"date\",\"images\"]\n",
    ")"
   ]
  },
  {
   "cell_type": "code",
   "execution_count": 5,
   "id": "efd1d98a-213b-44f8-9d40-ca598b78a94d",
   "metadata": {},
   "outputs": [
    {
     "data": {
      "text/html": [
       "<div>\n",
       "<style scoped>\n",
       "    .dataframe tbody tr th:only-of-type {\n",
       "        vertical-align: middle;\n",
       "    }\n",
       "\n",
       "    .dataframe tbody tr th {\n",
       "        vertical-align: top;\n",
       "    }\n",
       "\n",
       "    .dataframe thead th {\n",
       "        text-align: right;\n",
       "    }\n",
       "</style>\n",
       "<table border=\"1\" class=\"dataframe\">\n",
       "  <thead>\n",
       "    <tr style=\"text-align: right;\">\n",
       "      <th></th>\n",
       "      <th>url</th>\n",
       "      <th>date</th>\n",
       "      <th>images</th>\n",
       "    </tr>\n",
       "  </thead>\n",
       "  <tbody>\n",
       "    <tr>\n",
       "      <th>0</th>\n",
       "      <td>https://old.reddit.com/r/Hololewd/comments/11i...</td>\n",
       "      <td>2023-03-05 12:41:02+00:00</td>\n",
       "      <td>https://i.imgur.com/5qdCump.jpg</td>\n",
       "    </tr>\n",
       "    <tr>\n",
       "      <th>1</th>\n",
       "      <td>https://old.reddit.com/r/Hololewd/comments/11i...</td>\n",
       "      <td>2023-03-05 10:46:29+00:00</td>\n",
       "      <td>https://i.imgur.com/zjHOmYZ.jpg</td>\n",
       "    </tr>\n",
       "    <tr>\n",
       "      <th>2</th>\n",
       "      <td>https://old.reddit.com/r/Hololewd/comments/11i...</td>\n",
       "      <td>2023-03-05 05:02:21+00:00</td>\n",
       "      <td>https://i.redd.it/w49xbktb9wla1.jpg</td>\n",
       "    </tr>\n",
       "    <tr>\n",
       "      <th>3</th>\n",
       "      <td>https://old.reddit.com/r/Hololewd/comments/11i...</td>\n",
       "      <td>2023-03-05 01:57:25+00:00</td>\n",
       "      <td>https://i.imgur.com/mJRKK0s.jpg</td>\n",
       "    </tr>\n",
       "    <tr>\n",
       "      <th>4</th>\n",
       "      <td>https://old.reddit.com/r/Hololewd/comments/11i...</td>\n",
       "      <td>2023-03-05 01:45:38+00:00</td>\n",
       "      <td>https://i.redd.it/zdo1zrk8avla1.jpg</td>\n",
       "    </tr>\n",
       "    <tr>\n",
       "      <th>...</th>\n",
       "      <td>...</td>\n",
       "      <td>...</td>\n",
       "      <td>...</td>\n",
       "    </tr>\n",
       "    <tr>\n",
       "      <th>96</th>\n",
       "      <td>https://old.reddit.com/r/Hololewd/comments/11d...</td>\n",
       "      <td>2023-02-28 04:00:46+00:00</td>\n",
       "      <td>https://i.redd.it/v0z7ic2s9wka1.jpg</td>\n",
       "    </tr>\n",
       "    <tr>\n",
       "      <th>97</th>\n",
       "      <td>https://old.reddit.com/r/Hololewd/comments/11d...</td>\n",
       "      <td>2023-02-28 03:07:37+00:00</td>\n",
       "      <td>https://i.redd.it/w6ljs55b0wka1.jpg</td>\n",
       "    </tr>\n",
       "    <tr>\n",
       "      <th>98</th>\n",
       "      <td>https://old.reddit.com/r/Hololewd/comments/11d...</td>\n",
       "      <td>2023-02-28 02:00:40+00:00</td>\n",
       "      <td>https://i.redd.it/g54qbe1dovka1.jpg</td>\n",
       "    </tr>\n",
       "    <tr>\n",
       "      <th>99</th>\n",
       "      <td>https://old.reddit.com/r/Hololewd/comments/11d...</td>\n",
       "      <td>2023-02-28 01:30:00+00:00</td>\n",
       "      <td>https://i.redd.it/xl9ucxavivka1.jpg</td>\n",
       "    </tr>\n",
       "    <tr>\n",
       "      <th>100</th>\n",
       "      <td>https://old.reddit.com/r/Hololewd/comments/11d...</td>\n",
       "      <td>2023-02-28 00:16:09+00:00</td>\n",
       "      <td>https://i.imgur.com/Epg0Ld9.jpg</td>\n",
       "    </tr>\n",
       "  </tbody>\n",
       "</table>\n",
       "<p>101 rows × 3 columns</p>\n",
       "</div>"
      ],
      "text/plain": [
       "                                                   url  \\\n",
       "0    https://old.reddit.com/r/Hololewd/comments/11i...   \n",
       "1    https://old.reddit.com/r/Hololewd/comments/11i...   \n",
       "2    https://old.reddit.com/r/Hololewd/comments/11i...   \n",
       "3    https://old.reddit.com/r/Hololewd/comments/11i...   \n",
       "4    https://old.reddit.com/r/Hololewd/comments/11i...   \n",
       "..                                                 ...   \n",
       "96   https://old.reddit.com/r/Hololewd/comments/11d...   \n",
       "97   https://old.reddit.com/r/Hololewd/comments/11d...   \n",
       "98   https://old.reddit.com/r/Hololewd/comments/11d...   \n",
       "99   https://old.reddit.com/r/Hololewd/comments/11d...   \n",
       "100  https://old.reddit.com/r/Hololewd/comments/11d...   \n",
       "\n",
       "                         date                               images  \n",
       "0   2023-03-05 12:41:02+00:00      https://i.imgur.com/5qdCump.jpg  \n",
       "1   2023-03-05 10:46:29+00:00      https://i.imgur.com/zjHOmYZ.jpg  \n",
       "2   2023-03-05 05:02:21+00:00  https://i.redd.it/w49xbktb9wla1.jpg  \n",
       "3   2023-03-05 01:57:25+00:00      https://i.imgur.com/mJRKK0s.jpg  \n",
       "4   2023-03-05 01:45:38+00:00  https://i.redd.it/zdo1zrk8avla1.jpg  \n",
       "..                        ...                                  ...  \n",
       "96  2023-02-28 04:00:46+00:00  https://i.redd.it/v0z7ic2s9wka1.jpg  \n",
       "97  2023-02-28 03:07:37+00:00  https://i.redd.it/w6ljs55b0wka1.jpg  \n",
       "98  2023-02-28 02:00:40+00:00  https://i.redd.it/g54qbe1dovka1.jpg  \n",
       "99  2023-02-28 01:30:00+00:00  https://i.redd.it/xl9ucxavivka1.jpg  \n",
       "100 2023-02-28 00:16:09+00:00      https://i.imgur.com/Epg0Ld9.jpg  \n",
       "\n",
       "[101 rows x 3 columns]"
      ]
     },
     "execution_count": 5,
     "metadata": {},
     "output_type": "execute_result"
    }
   ],
   "source": [
    "tweet_df"
   ]
  },
  {
   "cell_type": "code",
   "execution_count": 6,
   "id": "7216ec66-9bfc-4cfb-b2ea-631d063979b6",
   "metadata": {},
   "outputs": [
    {
     "data": {
      "text/plain": [
       "Submission(author='Aitrellos', date=datetime.datetime(2023, 2, 28, 0, 16, 9, tzinfo=datetime.timezone.utc), id='t3_11drh1h', link='https://i.imgur.com/Epg0Ld9.jpg', selftext=None, subreddit='Hololewd', title='Wakie Wakie Calli~', url='https://old.reddit.com/r/Hololewd/comments/11drh1h/wakie_wakie_calli/')"
      ]
     },
     "execution_count": 6,
     "metadata": {},
     "output_type": "execute_result"
    }
   ],
   "source": [
    "tweet"
   ]
  },
  {
   "cell_type": "code",
   "execution_count": 9,
   "id": "e83e3b24-d376-43e3-99d2-df9f83ab24ef",
   "metadata": {},
   "outputs": [
    {
     "data": {
      "text/plain": [
       "'Wakie Wakie Calli~'"
      ]
     },
     "execution_count": 9,
     "metadata": {},
     "output_type": "execute_result"
    }
   ],
   "source": [
    "tweet.title"
   ]
  },
  {
   "cell_type": "code",
   "execution_count": 25,
   "id": "2ae6845e-82c8-4814-9e48-95a555d54d5a",
   "metadata": {},
   "outputs": [],
   "source": [
    "def download(url):\n",
    "    file_name = url.split('/')[-1]\n",
    "    try:\n",
    "        response = urllib.request.urlopen(url)\n",
    "    except:\n",
    "        pass\n",
    "    else:\n",
    "        if response.status == 200:\n",
    "            with open(file_name, \"wb\") as f:\n",
    "                f.write(response.read())\n",
    "                time.sleep(0.5)"
   ]
  },
  {
   "cell_type": "code",
   "execution_count": 26,
   "id": "af5886d8-58ba-4b8e-8b34-b06226840b17",
   "metadata": {},
   "outputs": [],
   "source": [
    "for tweet in tweets:\n",
    "    download(tweet[-1])"
   ]
  },
  {
   "cell_type": "markdown",
   "id": "b6cd8625-91b2-4a6b-ac6d-de6f6999a28e",
   "metadata": {},
   "source": [
    "## test"
   ]
  },
  {
   "cell_type": "code",
   "execution_count": 6,
   "id": "de164398-5c24-4893-be21-10eb666bc004",
   "metadata": {},
   "outputs": [],
   "source": [
    "scraper = reddit.RedditSearchScraper('Hololewd/?f=flair_name%3A\"Yukihana%20Lamy\"')"
   ]
  },
  {
   "cell_type": "code",
   "execution_count": 7,
   "id": "7eb942b4-7e34-4263-8bda-15b9ebfe113a",
   "metadata": {},
   "outputs": [],
   "source": [
    "tweets = []\n",
    "for index,tweet in enumerate(scraper.get_items()):\n",
    "    break"
   ]
  },
  {
   "cell_type": "code",
   "execution_count": 8,
   "id": "6f04bd13-e901-4534-a212-bf0c6292fd04",
   "metadata": {},
   "outputs": [
    {
     "data": {
      "text/plain": [
       "Submission(author='Aitrellos', date=datetime.datetime(2023, 2, 28, 0, 16, 9, tzinfo=datetime.timezone.utc), id='t3_11drh1h', link='https://i.imgur.com/Epg0Ld9.jpg', selftext=None, subreddit='Hololewd', title='Wakie Wakie Calli~', url='https://old.reddit.com/r/Hololewd/comments/11drh1h/wakie_wakie_calli/')"
      ]
     },
     "execution_count": 8,
     "metadata": {},
     "output_type": "execute_result"
    }
   ],
   "source": [
    "tweet"
   ]
  },
  {
   "cell_type": "code",
   "execution_count": null,
   "id": "ed3aa0e7-335f-49eb-8c9d-481f418f3fd8",
   "metadata": {},
   "outputs": [],
   "source": []
  }
 ],
 "metadata": {
  "kernelspec": {
   "display_name": "Python 3 (ipykernel)",
   "language": "python",
   "name": "python3"
  },
  "language_info": {
   "codemirror_mode": {
    "name": "ipython",
    "version": 3
   },
   "file_extension": ".py",
   "mimetype": "text/x-python",
   "name": "python",
   "nbconvert_exporter": "python",
   "pygments_lexer": "ipython3",
   "version": "3.9.13"
  }
 },
 "nbformat": 4,
 "nbformat_minor": 5
}
